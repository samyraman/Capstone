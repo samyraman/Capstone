{
 "cells": [
  {
   "cell_type": "markdown",
   "id": "0c850150-9762-4937-9a13-ec4eb3b7f246",
   "metadata": {},
   "source": [
    "# Data Collection\n",
    "\n",
    "I have downloaded the `wikihowAll.csv` from the [dataset repo](https://github.com/mahnazkoupaee/WikiHow-Dataset) and will be cleaning and parsing it with the following code."
   ]
  },
  {
   "cell_type": "code",
   "execution_count": 1,
   "id": "6138e152-c42a-4214-a6c5-8cdc852b0456",
   "metadata": {
    "execution": {
     "iopub.execute_input": "2022-05-26T04:03:25.949722Z",
     "iopub.status.busy": "2022-05-26T04:03:25.949424Z",
     "iopub.status.idle": "2022-05-26T04:03:26.299773Z",
     "shell.execute_reply": "2022-05-26T04:03:26.299006Z",
     "shell.execute_reply.started": "2022-05-26T04:03:25.949648Z"
    }
   },
   "outputs": [],
   "source": [
    "import numpy as np\n",
    "import os\n",
    "import pandas as pd"
   ]
  },
  {
   "cell_type": "code",
   "execution_count": 17,
   "id": "4b06860d-3b82-4845-86f7-c465ec17b801",
   "metadata": {
    "execution": {
     "iopub.execute_input": "2022-05-26T04:34:28.328890Z",
     "iopub.status.busy": "2022-05-26T04:34:28.327886Z",
     "iopub.status.idle": "2022-05-26T04:34:35.688659Z",
     "shell.execute_reply": "2022-05-26T04:34:35.687668Z",
     "shell.execute_reply.started": "2022-05-26T04:34:28.328845Z"
    }
   },
   "outputs": [
    {
     "data": {
      "text/html": [
       "<div>\n",
       "<style scoped>\n",
       "    .dataframe tbody tr th:only-of-type {\n",
       "        vertical-align: middle;\n",
       "    }\n",
       "\n",
       "    .dataframe tbody tr th {\n",
       "        vertical-align: top;\n",
       "    }\n",
       "\n",
       "    .dataframe thead th {\n",
       "        text-align: right;\n",
       "    }\n",
       "</style>\n",
       "<table border=\"1\" class=\"dataframe\">\n",
       "  <thead>\n",
       "    <tr style=\"text-align: right;\">\n",
       "      <th></th>\n",
       "      <th>headline</th>\n",
       "      <th>title</th>\n",
       "      <th>text</th>\n",
       "    </tr>\n",
       "  </thead>\n",
       "  <tbody>\n",
       "    <tr>\n",
       "      <th>0</th>\n",
       "      <td>\\nKeep related supplies in the same area.,\\nMa...</td>\n",
       "      <td>How to Be an Organized Artist1</td>\n",
       "      <td>If you're a photographer, keep all the necess...</td>\n",
       "    </tr>\n",
       "    <tr>\n",
       "      <th>1</th>\n",
       "      <td>\\nCreate a sketch in the NeoPopRealist manner ...</td>\n",
       "      <td>How to Create a Neopoprealist Art Work</td>\n",
       "      <td>See the image for how this drawing develops s...</td>\n",
       "    </tr>\n",
       "    <tr>\n",
       "      <th>2</th>\n",
       "      <td>\\nGet a bachelor’s degree.,\\nEnroll in a studi...</td>\n",
       "      <td>How to Be a Visual Effects Artist1</td>\n",
       "      <td>It is possible to become a VFX artist without...</td>\n",
       "    </tr>\n",
       "    <tr>\n",
       "      <th>3</th>\n",
       "      <td>\\nStart with some experience or interest in ar...</td>\n",
       "      <td>How to Become an Art Investor</td>\n",
       "      <td>The best art investors do their research on t...</td>\n",
       "    </tr>\n",
       "    <tr>\n",
       "      <th>4</th>\n",
       "      <td>\\nKeep your reference materials, sketches, art...</td>\n",
       "      <td>How to Be an Organized Artist2</td>\n",
       "      <td>As you start planning for a project or work, ...</td>\n",
       "    </tr>\n",
       "  </tbody>\n",
       "</table>\n",
       "</div>"
      ],
      "text/plain": [
       "                                            headline  \\\n",
       "0  \\nKeep related supplies in the same area.,\\nMa...   \n",
       "1  \\nCreate a sketch in the NeoPopRealist manner ...   \n",
       "2  \\nGet a bachelor’s degree.,\\nEnroll in a studi...   \n",
       "3  \\nStart with some experience or interest in ar...   \n",
       "4  \\nKeep your reference materials, sketches, art...   \n",
       "\n",
       "                                    title  \\\n",
       "0          How to Be an Organized Artist1   \n",
       "1  How to Create a Neopoprealist Art Work   \n",
       "2      How to Be a Visual Effects Artist1   \n",
       "3           How to Become an Art Investor   \n",
       "4          How to Be an Organized Artist2   \n",
       "\n",
       "                                                text  \n",
       "0   If you're a photographer, keep all the necess...  \n",
       "1   See the image for how this drawing develops s...  \n",
       "2   It is possible to become a VFX artist without...  \n",
       "3   The best art investors do their research on t...  \n",
       "4   As you start planning for a project or work, ...  "
      ]
     },
     "execution_count": 17,
     "metadata": {},
     "output_type": "execute_result"
    }
   ],
   "source": [
    "raw_data = pd.read_csv('wikihowAll.csv', delimiter=',')\n",
    "raw_data.head()"
   ]
  },
  {
   "cell_type": "code",
   "execution_count": 18,
   "id": "a2a2c088-4378-49a7-954a-db078f583bcd",
   "metadata": {
    "execution": {
     "iopub.execute_input": "2022-05-26T04:34:44.230846Z",
     "iopub.status.busy": "2022-05-26T04:34:44.230554Z",
     "iopub.status.idle": "2022-05-26T04:34:44.370246Z",
     "shell.execute_reply": "2022-05-26T04:34:44.369532Z",
     "shell.execute_reply.started": "2022-05-26T04:34:44.230821Z"
    }
   },
   "outputs": [
    {
     "name": "stdout",
     "output_type": "stream",
     "text": [
      "<class 'pandas.core.frame.DataFrame'>\n",
      "RangeIndex: 215365 entries, 0 to 215364\n",
      "Data columns (total 3 columns):\n",
      " #   Column    Non-Null Count   Dtype \n",
      "---  ------    --------------   ----- \n",
      " 0   headline  214547 non-null  object\n",
      " 1   title     215364 non-null  object\n",
      " 2   text      214294 non-null  object\n",
      "dtypes: object(3)\n",
      "memory usage: 4.9+ MB\n"
     ]
    }
   ],
   "source": [
    "raw_data.info()"
   ]
  },
  {
   "cell_type": "markdown",
   "id": "cfa15dc4-af59-484b-abfa-bab8d9788d42",
   "metadata": {},
   "source": [
    "## Data Pre-processing\n",
    "From the info above, it seems that some entries are missing the text field. Looking at the data description below, we can see that the top `text` value is in fact an empty string, and there seem to be some duplicate values for headlines and text bodies."
   ]
  },
  {
   "cell_type": "code",
   "execution_count": 19,
   "id": "96891b92-bb71-4fc6-bc24-9ad685a7d930",
   "metadata": {
    "execution": {
     "iopub.execute_input": "2022-05-26T04:34:47.846287Z",
     "iopub.status.busy": "2022-05-26T04:34:47.846044Z",
     "iopub.status.idle": "2022-05-26T04:34:49.101870Z",
     "shell.execute_reply": "2022-05-26T04:34:49.101292Z",
     "shell.execute_reply.started": "2022-05-26T04:34:47.846265Z"
    }
   },
   "outputs": [
    {
     "data": {
      "text/html": [
       "<div>\n",
       "<style scoped>\n",
       "    .dataframe tbody tr th:only-of-type {\n",
       "        vertical-align: middle;\n",
       "    }\n",
       "\n",
       "    .dataframe tbody tr th {\n",
       "        vertical-align: top;\n",
       "    }\n",
       "\n",
       "    .dataframe thead th {\n",
       "        text-align: right;\n",
       "    }\n",
       "</style>\n",
       "<table border=\"1\" class=\"dataframe\">\n",
       "  <thead>\n",
       "    <tr style=\"text-align: right;\">\n",
       "      <th></th>\n",
       "      <th>headline</th>\n",
       "      <th>title</th>\n",
       "      <th>text</th>\n",
       "    </tr>\n",
       "  </thead>\n",
       "  <tbody>\n",
       "    <tr>\n",
       "      <th>count</th>\n",
       "      <td>214547</td>\n",
       "      <td>215364</td>\n",
       "      <td>214294</td>\n",
       "    </tr>\n",
       "    <tr>\n",
       "      <th>unique</th>\n",
       "      <td>214096</td>\n",
       "      <td>215364</td>\n",
       "      <td>209178</td>\n",
       "    </tr>\n",
       "    <tr>\n",
       "      <th>top</th>\n",
       "      <td>\\nAcquire a pot.,\\nGather the ingredients need...</td>\n",
       "      <td>How to Be an Organized Artist1</td>\n",
       "      <td>,,</td>\n",
       "    </tr>\n",
       "    <tr>\n",
       "      <th>freq</th>\n",
       "      <td>11</td>\n",
       "      <td>1</td>\n",
       "      <td>524</td>\n",
       "    </tr>\n",
       "  </tbody>\n",
       "</table>\n",
       "</div>"
      ],
      "text/plain": [
       "                                                 headline  \\\n",
       "count                                              214547   \n",
       "unique                                             214096   \n",
       "top     \\nAcquire a pot.,\\nGather the ingredients need...   \n",
       "freq                                                   11   \n",
       "\n",
       "                                 title    text  \n",
       "count                           215364  214294  \n",
       "unique                          215364  209178  \n",
       "top     How to Be an Organized Artist1      ,,  \n",
       "freq                                 1     524  "
      ]
     },
     "execution_count": 19,
     "metadata": {},
     "output_type": "execute_result"
    }
   ],
   "source": [
    "raw_data.describe()"
   ]
  },
  {
   "cell_type": "markdown",
   "id": "4413c7f4-7f32-4cae-8cca-53912f239e75",
   "metadata": {},
   "source": [
    "This is confirmed by looking at the null counts in the dataset."
   ]
  },
  {
   "cell_type": "code",
   "execution_count": 29,
   "id": "9db86c77-7c57-45af-953b-d8dc50eaa0f0",
   "metadata": {
    "execution": {
     "iopub.execute_input": "2022-05-26T05:16:06.831748Z",
     "iopub.status.busy": "2022-05-26T05:16:06.831469Z",
     "iopub.status.idle": "2022-05-26T05:16:06.967651Z",
     "shell.execute_reply": "2022-05-26T05:16:06.966739Z",
     "shell.execute_reply.started": "2022-05-26T05:16:06.831680Z"
    }
   },
   "outputs": [
    {
     "data": {
      "text/plain": [
       "headline     818\n",
       "title          1\n",
       "text        1071\n",
       "dtype: int64"
      ]
     },
     "execution_count": 29,
     "metadata": {},
     "output_type": "execute_result"
    }
   ],
   "source": [
    "raw_data.isnull().sum()"
   ]
  },
  {
   "cell_type": "markdown",
   "id": "6982e46d-a25e-4618-94b0-f78220426091",
   "metadata": {},
   "source": [
    "We will now remove any rows that are missing an entry and drop rows that contain duplicate `text` values so that all entries are from unique articles."
   ]
  },
  {
   "cell_type": "code",
   "execution_count": 33,
   "id": "30895ce2-f1e1-4045-80a9-6233d6eed6f5",
   "metadata": {
    "execution": {
     "iopub.execute_input": "2022-05-26T05:21:15.031333Z",
     "iopub.status.busy": "2022-05-26T05:21:15.031048Z",
     "iopub.status.idle": "2022-05-26T05:21:15.372874Z",
     "shell.execute_reply": "2022-05-26T05:21:15.372147Z",
     "shell.execute_reply.started": "2022-05-26T05:21:15.031306Z"
    }
   },
   "outputs": [
    {
     "data": {
      "text/plain": [
       "headline    0\n",
       "title       0\n",
       "text        0\n",
       "dtype: int64"
      ]
     },
     "execution_count": 33,
     "metadata": {},
     "output_type": "execute_result"
    }
   ],
   "source": [
    "df = raw_data.copy()\n",
    "df.dropna(inplace=True)\n",
    "df.isnull().sum()"
   ]
  },
  {
   "cell_type": "code",
   "execution_count": 35,
   "id": "5d6cc354-986a-4ef8-a408-26a83238a1e8",
   "metadata": {
    "execution": {
     "iopub.execute_input": "2022-05-26T05:21:24.443965Z",
     "iopub.status.busy": "2022-05-26T05:21:24.443617Z",
     "iopub.status.idle": "2022-05-26T05:21:26.332264Z",
     "shell.execute_reply": "2022-05-26T05:21:26.331699Z",
     "shell.execute_reply.started": "2022-05-26T05:21:24.443926Z"
    }
   },
   "outputs": [
    {
     "data": {
      "text/html": [
       "<div>\n",
       "<style scoped>\n",
       "    .dataframe tbody tr th:only-of-type {\n",
       "        vertical-align: middle;\n",
       "    }\n",
       "\n",
       "    .dataframe tbody tr th {\n",
       "        vertical-align: top;\n",
       "    }\n",
       "\n",
       "    .dataframe thead th {\n",
       "        text-align: right;\n",
       "    }\n",
       "</style>\n",
       "<table border=\"1\" class=\"dataframe\">\n",
       "  <thead>\n",
       "    <tr style=\"text-align: right;\">\n",
       "      <th></th>\n",
       "      <th>headline</th>\n",
       "      <th>title</th>\n",
       "      <th>text</th>\n",
       "    </tr>\n",
       "  </thead>\n",
       "  <tbody>\n",
       "    <tr>\n",
       "      <th>count</th>\n",
       "      <td>209178</td>\n",
       "      <td>209178</td>\n",
       "      <td>209178</td>\n",
       "    </tr>\n",
       "    <tr>\n",
       "      <th>unique</th>\n",
       "      <td>208821</td>\n",
       "      <td>209178</td>\n",
       "      <td>209178</td>\n",
       "    </tr>\n",
       "    <tr>\n",
       "      <th>top</th>\n",
       "      <td>\\nAcquire a pot.,\\nGather the ingredients need...</td>\n",
       "      <td>How to Be an Organized Artist1</td>\n",
       "      <td>If you're a photographer, keep all the necess...</td>\n",
       "    </tr>\n",
       "    <tr>\n",
       "      <th>freq</th>\n",
       "      <td>11</td>\n",
       "      <td>1</td>\n",
       "      <td>1</td>\n",
       "    </tr>\n",
       "  </tbody>\n",
       "</table>\n",
       "</div>"
      ],
      "text/plain": [
       "                                                 headline  \\\n",
       "count                                              209178   \n",
       "unique                                             208821   \n",
       "top     \\nAcquire a pot.,\\nGather the ingredients need...   \n",
       "freq                                                   11   \n",
       "\n",
       "                                 title  \\\n",
       "count                           209178   \n",
       "unique                          209178   \n",
       "top     How to Be an Organized Artist1   \n",
       "freq                                 1   \n",
       "\n",
       "                                                     text  \n",
       "count                                              209178  \n",
       "unique                                             209178  \n",
       "top      If you're a photographer, keep all the necess...  \n",
       "freq                                                    1  "
      ]
     },
     "execution_count": 35,
     "metadata": {},
     "output_type": "execute_result"
    }
   ],
   "source": [
    "df.drop_duplicates(subset=['text'],inplace=True)\n",
    "df.describe()"
   ]
  },
  {
   "cell_type": "markdown",
   "id": "3a81e20f-4c8d-4585-b29d-5903f492244d",
   "metadata": {},
   "source": [
    "Next, we will preprocess the text as done in [WikiHow-Dataset/process.py](https://github.com/mahnazkoupaee/WikiHow-Dataset/blob/master/process.py) to:\n",
    "1. remove short articles with long summaries\n",
    "2. remove extra commas in abstracts (headlines)\n",
    "3. remove extra commas in articles (text)"
   ]
  },
  {
   "cell_type": "code",
   "execution_count": 37,
   "id": "d7dcccc4-ae56-430e-890a-835eb7a0aca3",
   "metadata": {
    "execution": {
     "iopub.execute_input": "2022-05-26T05:28:35.748660Z",
     "iopub.status.busy": "2022-05-26T05:28:35.747967Z",
     "iopub.status.idle": "2022-05-26T05:28:45.276398Z",
     "shell.execute_reply": "2022-05-26T05:28:45.275605Z",
     "shell.execute_reply.started": "2022-05-26T05:28:35.748633Z"
    }
   },
   "outputs": [
    {
     "name": "stderr",
     "output_type": "stream",
     "text": [
      "/tmp/ipykernel_1172/3511992025.py:2: FutureWarning: The default value of regex will change from True to False in a future version.\n",
      "  df['headline'].str.replace(\".,\", \".\")\n"
     ]
    },
    {
     "data": {
      "text/html": [
       "<div>\n",
       "<style scoped>\n",
       "    .dataframe tbody tr th:only-of-type {\n",
       "        vertical-align: middle;\n",
       "    }\n",
       "\n",
       "    .dataframe tbody tr th {\n",
       "        vertical-align: top;\n",
       "    }\n",
       "\n",
       "    .dataframe thead th {\n",
       "        text-align: right;\n",
       "    }\n",
       "</style>\n",
       "<table border=\"1\" class=\"dataframe\">\n",
       "  <thead>\n",
       "    <tr style=\"text-align: right;\">\n",
       "      <th></th>\n",
       "      <th>headline</th>\n",
       "      <th>title</th>\n",
       "      <th>text</th>\n",
       "    </tr>\n",
       "  </thead>\n",
       "  <tbody>\n",
       "    <tr>\n",
       "      <th>0</th>\n",
       "      <td>\\nKeep related supplies in the same area.,\\nMa...</td>\n",
       "      <td>How to Be an Organized Artist1</td>\n",
       "      <td>If you're a photographer, keep all the necess...</td>\n",
       "    </tr>\n",
       "    <tr>\n",
       "      <th>1</th>\n",
       "      <td>\\nCreate a sketch in the NeoPopRealist manner ...</td>\n",
       "      <td>How to Create a Neopoprealist Art Work</td>\n",
       "      <td>See the image for how this drawing develops s...</td>\n",
       "    </tr>\n",
       "    <tr>\n",
       "      <th>2</th>\n",
       "      <td>\\nGet a bachelor’s degree.,\\nEnroll in a studi...</td>\n",
       "      <td>How to Be a Visual Effects Artist1</td>\n",
       "      <td>It is possible to become a VFX artist without...</td>\n",
       "    </tr>\n",
       "    <tr>\n",
       "      <th>3</th>\n",
       "      <td>\\nStart with some experience or interest in ar...</td>\n",
       "      <td>How to Become an Art Investor</td>\n",
       "      <td>The best art investors do their research on t...</td>\n",
       "    </tr>\n",
       "    <tr>\n",
       "      <th>4</th>\n",
       "      <td>\\nKeep your reference materials, sketches, art...</td>\n",
       "      <td>How to Be an Organized Artist2</td>\n",
       "      <td>As you start planning for a project or work, ...</td>\n",
       "    </tr>\n",
       "    <tr>\n",
       "      <th>...</th>\n",
       "      <td>...</td>\n",
       "      <td>...</td>\n",
       "      <td>...</td>\n",
       "    </tr>\n",
       "    <tr>\n",
       "      <th>215360</th>\n",
       "      <td>\\nConsider changing the spelling of your name....</td>\n",
       "      <td>How to Pick a Stage Name3</td>\n",
       "      <td>If you have a name that you like, you might f...</td>\n",
       "    </tr>\n",
       "    <tr>\n",
       "      <th>215361</th>\n",
       "      <td>\\nTry out your name.,\\nDon’t legally change yo...</td>\n",
       "      <td>How to Pick a Stage Name4</td>\n",
       "      <td>Your name might sound great to you when you s...</td>\n",
       "    </tr>\n",
       "    <tr>\n",
       "      <th>215362</th>\n",
       "      <td>\\nUnderstand the process of relief printing.,\\...</td>\n",
       "      <td>How to Identify Prints1</td>\n",
       "      <td>Relief printing is the oldest and most tradit...</td>\n",
       "    </tr>\n",
       "    <tr>\n",
       "      <th>215363</th>\n",
       "      <td>\\nUnderstand the process of intaglio printing....</td>\n",
       "      <td>How to Identify Prints2</td>\n",
       "      <td>Intaglio is Italian for \"incis­ing,\" and corr...</td>\n",
       "    </tr>\n",
       "    <tr>\n",
       "      <th>215364</th>\n",
       "      <td>\\nUnderstand the different varieties of lithog...</td>\n",
       "      <td>How to Identify Prints3</td>\n",
       "      <td>Lithography is a big term often used to refer...</td>\n",
       "    </tr>\n",
       "  </tbody>\n",
       "</table>\n",
       "<p>180027 rows × 3 columns</p>\n",
       "</div>"
      ],
      "text/plain": [
       "                                                 headline  \\\n",
       "0       \\nKeep related supplies in the same area.,\\nMa...   \n",
       "1       \\nCreate a sketch in the NeoPopRealist manner ...   \n",
       "2       \\nGet a bachelor’s degree.,\\nEnroll in a studi...   \n",
       "3       \\nStart with some experience or interest in ar...   \n",
       "4       \\nKeep your reference materials, sketches, art...   \n",
       "...                                                   ...   \n",
       "215360  \\nConsider changing the spelling of your name....   \n",
       "215361  \\nTry out your name.,\\nDon’t legally change yo...   \n",
       "215362  \\nUnderstand the process of relief printing.,\\...   \n",
       "215363  \\nUnderstand the process of intaglio printing....   \n",
       "215364  \\nUnderstand the different varieties of lithog...   \n",
       "\n",
       "                                         title  \\\n",
       "0               How to Be an Organized Artist1   \n",
       "1       How to Create a Neopoprealist Art Work   \n",
       "2           How to Be a Visual Effects Artist1   \n",
       "3                How to Become an Art Investor   \n",
       "4               How to Be an Organized Artist2   \n",
       "...                                        ...   \n",
       "215360               How to Pick a Stage Name3   \n",
       "215361               How to Pick a Stage Name4   \n",
       "215362                 How to Identify Prints1   \n",
       "215363                 How to Identify Prints2   \n",
       "215364                 How to Identify Prints3   \n",
       "\n",
       "                                                     text  \n",
       "0        If you're a photographer, keep all the necess...  \n",
       "1        See the image for how this drawing develops s...  \n",
       "2        It is possible to become a VFX artist without...  \n",
       "3        The best art investors do their research on t...  \n",
       "4        As you start planning for a project or work, ...  \n",
       "...                                                   ...  \n",
       "215360   If you have a name that you like, you might f...  \n",
       "215361   Your name might sound great to you when you s...  \n",
       "215362   Relief printing is the oldest and most tradit...  \n",
       "215363   Intaglio is Italian for \"incis­ing,\" and corr...  \n",
       "215364   Lithography is a big term often used to refer...  \n",
       "\n",
       "[180027 rows x 3 columns]"
      ]
     },
     "execution_count": 37,
     "metadata": {},
     "output_type": "execute_result"
    }
   ],
   "source": [
    "df = df[df['headline'].str.len() < 0.75*df['text'].str.len()]\n",
    "df['headline'].str.replace(\".,\", \".\")\n",
    "df['text'].replace(to_replace=r\"[.]+[\\n]+[,]\", value=r\".\\n\", regex=True)\n"
   ]
  },
  {
   "cell_type": "markdown",
   "id": "c8c03e49-a61d-49d3-a1da-b68ace7d7302",
   "metadata": {},
   "source": [
    "## Data Cleaning\n",
    "Now, we will clean the text by getting rid of punctuation, stopwords, extraneous characters, and standardizing the case."
   ]
  },
  {
   "cell_type": "code",
   "execution_count": 39,
   "id": "969963a3-84c2-4ef1-9b19-ed506b6550dc",
   "metadata": {
    "execution": {
     "iopub.execute_input": "2022-05-26T05:38:50.017152Z",
     "iopub.status.busy": "2022-05-26T05:38:50.016885Z",
     "iopub.status.idle": "2022-05-26T05:38:51.406185Z",
     "shell.execute_reply": "2022-05-26T05:38:51.405509Z",
     "shell.execute_reply.started": "2022-05-26T05:38:50.017126Z"
    }
   },
   "outputs": [],
   "source": [
    "from bs4 import BeautifulSoup\n",
    "from nltk.corpus import stopwords"
   ]
  }
 ],
 "metadata": {
  "kernelspec": {
   "display_name": "Python 3 (ipykernel)",
   "language": "python",
   "name": "python3"
  },
  "language_info": {
   "codemirror_mode": {
    "name": "ipython",
    "version": 3
   },
   "file_extension": ".py",
   "mimetype": "text/x-python",
   "name": "python",
   "nbconvert_exporter": "python",
   "pygments_lexer": "ipython3",
   "version": "3.9.10"
  }
 },
 "nbformat": 4,
 "nbformat_minor": 5
}
